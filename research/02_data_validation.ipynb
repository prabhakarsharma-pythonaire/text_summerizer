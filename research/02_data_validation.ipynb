{
 "cells": [
  {
   "cell_type": "code",
   "execution_count": 1,
   "id": "ec2ea453-15c3-48fd-a8de-5ec836634bb1",
   "metadata": {},
   "outputs": [],
   "source": [
    "import os\n"
   ]
  },
  {
   "cell_type": "code",
   "execution_count": 2,
   "id": "98b7392b-c4e7-4513-97c1-10ae61fcd44c",
   "metadata": {},
   "outputs": [
    {
     "data": {
      "text/plain": [
       "'C:\\\\prabhakar\\\\end_to_end\\\\text_summerizer\\\\research'"
      ]
     },
     "execution_count": 2,
     "metadata": {},
     "output_type": "execute_result"
    }
   ],
   "source": [
    "%pwd"
   ]
  },
  {
   "cell_type": "code",
   "execution_count": 3,
   "id": "f8c610c0-943a-4b5a-a0c7-eb11fe66e238",
   "metadata": {},
   "outputs": [],
   "source": [
    "os.chdir(\"../\")"
   ]
  },
  {
   "cell_type": "code",
   "execution_count": 4,
   "id": "80901c59-79c0-4281-ad32-ea25cd023aa5",
   "metadata": {},
   "outputs": [
    {
     "data": {
      "text/plain": [
       "'C:\\\\prabhakar\\\\end_to_end\\\\text_summerizer'"
      ]
     },
     "execution_count": 4,
     "metadata": {},
     "output_type": "execute_result"
    }
   ],
   "source": [
    "%pwd"
   ]
  },
  {
   "cell_type": "code",
   "execution_count": 6,
   "id": "5d90b53b-0026-49ab-8641-c6b006adfc85",
   "metadata": {},
   "outputs": [],
   "source": [
    "from dataclasses import dataclass\n",
    "from pathlib import Path\n",
    "\n",
    "@dataclass(frozen=True)\n",
    "class DataValidationConfig:\n",
    "    root_dir:Path\n",
    "    STATUS_FILE:str\n",
    "    ALL_REQUIRED_FILES: list\n",
    "    \n",
    "    "
   ]
  },
  {
   "cell_type": "code",
   "execution_count": 7,
   "id": "bb0d112c-8a49-4e25-b1da-060af55fe861",
   "metadata": {},
   "outputs": [],
   "source": [
    "from Text_Summerizer.constants import *\n",
    "from Text_Summerizer.utils.common import read_yaml,create_directiories"
   ]
  },
  {
   "cell_type": "code",
   "execution_count": 11,
   "id": "03b737ca-18ee-4de2-a2bd-1da7fabc5e0e",
   "metadata": {},
   "outputs": [],
   "source": [
    "class ConfigurationManager:\n",
    "    def __init__(\n",
    "        self,\n",
    "        config_filepath=CONFIG_FILE_PATH,\n",
    "        params_filepath=PARAMS_FILE_PATH):\n",
    "\n",
    "        self.config=read_yaml(config_filepath)\n",
    "        self.params=read_yaml(params_filepath)\n",
    "\n",
    "        create_directiories([self.config.artifacts_root])\n",
    "\n",
    "    def get_data_validation_config(self)->DataValidationConfig:\n",
    "        config=self.config.data_validation\n",
    "\n",
    "        create_directiories([config.root_dir])\n",
    "\n",
    "        data_validation_config=DataValidationConfig(\n",
    "            root_dir=config.root_dir,\n",
    "            STATUS_FILE=config.STATUS_FILE,\n",
    "            ALL_REQUIRED_FILES=config.ALL_REQUIRED_FILES)\n",
    "        return data_validation_config\n",
    "        "
   ]
  },
  {
   "cell_type": "code",
   "execution_count": 9,
   "id": "7d55408b-9cf7-4495-9a8c-910ad608dc4d",
   "metadata": {},
   "outputs": [],
   "source": [
    "import os\n",
    "from Text_Summerizer.logging import logger"
   ]
  },
  {
   "cell_type": "code",
   "execution_count": 12,
   "id": "64bf4c2b-8277-4ab6-86ab-e42caeb857b5",
   "metadata": {},
   "outputs": [],
   "source": [
    "class DataValidation:\n",
    "    def __init__(self,config:DataValidationConfig):\n",
    "        self.config=config\n",
    "\n",
    "\n",
    "\n",
    "    def validate_all_files_exist(self)->bool:\n",
    "        try:\n",
    "            validation_status=None\n",
    "            all_files=os.listdir(os.path.join(\"artifacts\",\"data_ingestion\",\"samsum_dataset\"))\n",
    "\n",
    "            for file in all_files:\n",
    "                if file not in self.config.ALL_REQUIRED_FILES:\n",
    "                    validation_status=False\n",
    "                    with open(self.config.STATUS_FILE,\"w\") as f:\n",
    "                        f.write(f\"Validation status: {validation_status}\")\n",
    "                else:\n",
    "                    validation_status=True\n",
    "                    with open(self.config.STATUS_FILE,\"w\") as f:\n",
    "                        f.write(f\"Validatoin status:{validation_status}\")\n",
    "            return validation_status\n",
    "\n",
    "        except Exception as e:\n",
    "            raise e"
   ]
  },
  {
   "cell_type": "code",
   "execution_count": 13,
   "id": "2e854b15-91af-44e2-9cb2-c415ee3510c6",
   "metadata": {},
   "outputs": [
    {
     "name": "stdout",
     "output_type": "stream",
     "text": [
      "[2024-01-22 18:06:47,862 | INFO     | TextSummarizerLogger | read_yaml           :29  ] yaml file:config\\config.yaml loadded successfully\n",
      "[2024-01-22 18:06:47,866 | INFO     | TextSummarizerLogger | read_yaml           :29  ] yaml file:params.yaml loadded successfully\n",
      "[2024-01-22 18:06:47,869 | INFO     | TextSummarizerLogger | create_directiories :49  ] created directory at: artifacts\n",
      "[2024-01-22 18:06:47,871 | INFO     | TextSummarizerLogger | create_directiories :49  ] created directory at: artifacts/data_validation\n"
     ]
    }
   ],
   "source": [
    "try:\n",
    "    config=ConfigurationManager()\n",
    "    data_validation_config=config.get_data_validation_config()\n",
    "    data_validation=DataValidation(config=data_validation_config)\n",
    "    data_validation.validate_all_files_exist()\n",
    "   \n",
    "except Exception as e:\n",
    "    raise e"
   ]
  },
  {
   "cell_type": "code",
   "execution_count": null,
   "id": "d26e0a39-7c51-4dc5-98c0-7de18d70a8fa",
   "metadata": {},
   "outputs": [],
   "source": []
  }
 ],
 "metadata": {
  "kernelspec": {
   "display_name": "Python 3 (ipykernel)",
   "language": "python",
   "name": "python3"
  },
  "language_info": {
   "codemirror_mode": {
    "name": "ipython",
    "version": 3
   },
   "file_extension": ".py",
   "mimetype": "text/x-python",
   "name": "python",
   "nbconvert_exporter": "python",
   "pygments_lexer": "ipython3",
   "version": "3.9.0"
  }
 },
 "nbformat": 4,
 "nbformat_minor": 5
}
